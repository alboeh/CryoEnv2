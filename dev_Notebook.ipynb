{
 "cells": [
  {
   "cell_type": "markdown",
   "id": "fc519b52",
   "metadata": {},
   "source": [
    "Just for developing the CryoEnv2"
   ]
  },
  {
   "cell_type": "code",
   "execution_count": 1,
   "id": "a8acedcd",
   "metadata": {},
   "outputs": [],
   "source": [
    "import numpy as np \n",
    "import matplotlib.pyplot as plt\n",
    "import cait as ai\n",
    "import cait.versatile as vai\n",
    "\n",
    "# Get multiprocessing\n",
    "n_processes = ai._available_workers\n",
    "# Standard values for plotting\n",
    "backend = \"plotly\" # Choose \"mpl\" for keeping plots when closing, \"plotly\" for interactive plotting\n",
    "\n",
    "# Go up one level because notebook is in folder\n",
    "import sys\n",
    "import os\n",
    "sys.path.append(os.path.abspath(\".\"))  # Go to project root folder\n",
    "\n",
    "# New cryoEnv implementation\n",
    "from src.CryoEnv2 import CryoEnv as cryo"
   ]
  },
  {
   "cell_type": "markdown",
   "id": "8cfb635b",
   "metadata": {},
   "source": [
    "# Time and cryo environment definition\n",
    "First of all, it is important to define the time vector for one testpulse event.\n",
    "This should be kept similar to the events in cait, so we use the same record_length."
   ]
  },
  {
   "cell_type": "code",
   "execution_count": 2,
   "id": "1d8bcb9d",
   "metadata": {},
   "outputs": [
    {
     "name": "stdout",
     "output_type": "stream",
     "text": [
      "Maximum time is:  0.32768 s\n"
     ]
    }
   ],
   "source": [
    "record_length = 2**14       # Standard value in cait\n",
    "sample_frequency = 50e3     # Standard value in vdaq\n",
    "dt = 1 / sample_frequency   # Time step\n",
    "\n",
    "time = np.linspace(0, record_length/sample_frequency, record_length)  # Time vector\n",
    "print(\"Maximum time is: \", np.max(time), \"s\")"
   ]
  },
  {
   "cell_type": "code",
   "execution_count": 3,
   "id": "7c6859ea",
   "metadata": {},
   "outputs": [
    {
     "name": "stdout",
     "output_type": "stream",
     "text": [
      "Cryogenic environment initialized.\n"
     ]
    }
   ],
   "source": [
    "# Initialize cryo\n",
    "test_env = cryo(record_length=record_length, sample_frequency=sample_frequency)"
   ]
  },
  {
   "cell_type": "markdown",
   "id": "51e9d7a5",
   "metadata": {},
   "source": [
    "# Filling the ETM with life\n",
    "First of all, the cryo environment has to be created."
   ]
  },
  {
   "cell_type": "code",
   "execution_count": 4,
   "id": "7856aec0",
   "metadata": {},
   "outputs": [
    {
     "name": "stdout",
     "output_type": "stream",
     "text": [
      "2-component Electrothermal model initialized.\n"
     ]
    }
   ],
   "source": [
    "# Create dict for all relevant electrothermal model parameters (2-comp model)\n",
    "etm_params_2C = {\n",
    "    \"C_e\": 10e-3,     # Heat capacity electrical system\n",
    "    \"C_a\": 10e-3,     # Heat capacity absorber\n",
    "    \"G_ea\": 1e-3,     # Thermal conductance between electrical system and absorber\n",
    "    \"G_ab\": 1e-3,     # Thermal conductance between absorber and bath\n",
    "    \"G_eb\": 1e-3,     # Thermal conductance between electrical system and bath\n",
    "    \"T_b\": 0.1,      # Bath temperature\n",
    "    \"R_S\": 1e-3,      # Shunt resistance\n",
    "    \"L\": 400e-9      # Inductance from SQUID input coil\n",
    "}\n",
    "\n",
    "# Initialize electrothermal model\n",
    "test_env.init_etm(n_components=2, params=etm_params_2C) # give number of components, otherwise parameters will not fit"
   ]
  },
  {
   "cell_type": "markdown",
   "id": "45a9dc8a",
   "metadata": {},
   "source": [
    "# Define Heater\n",
    "The DAC is the voltage value set to the Heater.\n",
    "This is usually a constant DC, which is superimposed with Testpulses.\n",
    "The constant part sets the OP of the detector.\n",
    "\n",
    "Before using ´apply_testpulse´, the DC heater voltage (which defines the operating point) needs to be set."
   ]
  },
  {
   "cell_type": "code",
   "execution_count": 6,
   "id": "c55feab2",
   "metadata": {},
   "outputs": [
    {
     "name": "stdout",
     "output_type": "stream",
     "text": [
      "Heater initialized.\n",
      "Heater voltage set to 5.0 V.\n"
     ]
    }
   ],
   "source": [
    "# like for the etm parameter, also here can be a very short dictionary be defined\n",
    "heater_params = {\n",
    "    \"R_H\": 10e-3  # Typical resistance value: 10 mOh\n",
    "}\n",
    "\n",
    "# Before we can use the heater, we have to initialize it\n",
    "test_env.init_heater(params=heater_params)\n",
    "\n",
    "# Additionally, we have to set an OP by choosing a constant DC value for it\n",
    "test_env.set_heater_voltage(5.0)  # Set heater voltage to 5 V"
   ]
  },
  {
   "cell_type": "markdown",
   "id": "9f4b9ecf",
   "metadata": {},
   "source": []
  }
 ],
 "metadata": {
  "kernelspec": {
   "display_name": "CAITdev",
   "language": "python",
   "name": "python3"
  },
  "language_info": {
   "codemirror_mode": {
    "name": "ipython",
    "version": 3
   },
   "file_extension": ".py",
   "mimetype": "text/x-python",
   "name": "python",
   "nbconvert_exporter": "python",
   "pygments_lexer": "ipython3",
   "version": "3.12.11"
  }
 },
 "nbformat": 4,
 "nbformat_minor": 5
}
