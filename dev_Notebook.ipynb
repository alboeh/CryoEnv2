{
 "cells": [
  {
   "cell_type": "markdown",
   "id": "fc519b52",
   "metadata": {},
   "source": [
    "Just for developing the CryoEnv2"
   ]
  },
  {
   "cell_type": "code",
   "execution_count": 1,
   "id": "a8acedcd",
   "metadata": {},
   "outputs": [],
   "source": [
    "import numpy as np \n",
    "import matplotlib.pyplot as plt\n",
    "import cait as ai\n",
    "import cait.versatile as vai\n",
    "\n",
    "# Get multiprocessing\n",
    "n_processes = ai._available_workers\n",
    "# Standard values for plotting\n",
    "backend = \"plotly\" # Choose \"mpl\" for keeping plots when closing, \"plotly\" for interactive plotting\n",
    "\n",
    "# Go up one level because notebook is in folder\n",
    "import sys\n",
    "import os\n",
    "sys.path.append(os.path.abspath(\".\"))  # Go to project root folder\n",
    "\n",
    "# New cryoEnv implementation\n",
    "from src.CryoEnv2 import CryoEnv as cryo"
   ]
  },
  {
   "cell_type": "markdown",
   "id": "d0b9a5c0",
   "metadata": {},
   "source": [
    "# Preparations\n",
    "Before using our environment, all parts of it have to be defined. These are\n",
    "1) Time + cryo environment\n",
    "2) Electrothermal model\n",
    "3) Heater\n",
    "4) TES\n",
    "5) SQUID\n",
    "\n",
    "Thats always made in the same fashion, by defining a variable dictionary first, then init the part of the system (slightly differs for the first point).\n",
    "\n",
    "Afterwards, the environment is fully defined and can be used!"
   ]
  },
  {
   "cell_type": "markdown",
   "id": "8cfb635b",
   "metadata": {},
   "source": [
    "## 1) Time and cryo environment definition\n",
    "First of all, it is important to define the time vector for one testpulse event.\n",
    "This should be kept similar to the events in cait, so we use the same record_length."
   ]
  },
  {
   "cell_type": "code",
   "execution_count": 2,
   "id": "1d8bcb9d",
   "metadata": {},
   "outputs": [
    {
     "name": "stdout",
     "output_type": "stream",
     "text": [
      "Maximum time is:  0.32768 s\n"
     ]
    }
   ],
   "source": [
    "record_length = 2**14       # Standard value in cait\n",
    "sample_frequency = 50e3     # Standard value in vdaq\n",
    "dt = 1 / sample_frequency   # Time step\n",
    "\n",
    "time = np.linspace(0, record_length/sample_frequency, record_length)  # Time vector\n",
    "print(\"Maximum time is: \", np.max(time), \"s\")"
   ]
  },
  {
   "cell_type": "code",
   "execution_count": 3,
   "id": "7c6859ea",
   "metadata": {},
   "outputs": [
    {
     "name": "stdout",
     "output_type": "stream",
     "text": [
      "Cryogenic environment initialized.\n"
     ]
    }
   ],
   "source": [
    "# Initialize cryo\n",
    "test_env = cryo(record_length=record_length, sample_frequency=sample_frequency)"
   ]
  },
  {
   "cell_type": "markdown",
   "id": "51e9d7a5",
   "metadata": {},
   "source": [
    "## 2) Filling the ETM with life\n",
    "First of all, the cryo environment has to be created."
   ]
  },
  {
   "cell_type": "code",
   "execution_count": 4,
   "id": "7856aec0",
   "metadata": {},
   "outputs": [
    {
     "name": "stdout",
     "output_type": "stream",
     "text": [
      "2-component Electrothermal model initialized.\n",
      "TES initialized.\n"
     ]
    }
   ],
   "source": [
    "# Create dict for all relevant electrothermal model parameters (2-comp model)\n",
    "etm_params_2C = {\n",
    "    \"C_e\": 22e-12,     # Heat capacity electrical system\n",
    "    \"C_a\": 150e-12,     # Heat capacity absorber\n",
    "    \"G_ea\": 140e-12,     # Thermal conductance between electrical system and absorber\n",
    "    \"G_ab\": 5e-9,     # Thermal conductance between absorber and bath\n",
    "    \"G_eb\": 7.5e-9,     # Thermal conductance between electrical system and bath\n",
    "    \"T_b\": 15e-3,       # Bath temperature\n",
    "    \"R_S\": 50e-3,      # Shunt resistance\n",
    "    \"L\": 400e-9,      # Inductance from SQUID input coil\n",
    "    \"V_B\": 5e-6,        # Bias voltage\n",
    "}\n",
    "\n",
    "# Initialize electrothermal model\n",
    "test_env.init_etm(n_components=2, params=etm_params_2C) # give number of components, otherwise parameters will not fit"
   ]
  },
  {
   "cell_type": "markdown",
   "id": "c957768b",
   "metadata": {},
   "source": [
    "The parameter space differs a lot from the used system!"
   ]
  },
  {
   "cell_type": "markdown",
   "id": "45a9dc8a",
   "metadata": {},
   "source": [
    "## 3) Define Heater\n",
    "The DAC is the voltage value set to the Heater.\n",
    "This is usually a constant DC, which is superimposed with Testpulses.\n",
    "The constant part sets the OP of the detector.\n",
    "\n",
    "Before using ´apply_testpulse´, the DC heater voltage (which defines the operating point) needs to be set."
   ]
  },
  {
   "cell_type": "code",
   "execution_count": 5,
   "id": "c55feab2",
   "metadata": {},
   "outputs": [
    {
     "name": "stdout",
     "output_type": "stream",
     "text": [
      "Heater initialized.\n"
     ]
    }
   ],
   "source": [
    "# like for the etm parameter, also here can be a very short dictionary be defined\n",
    "heater_params = {\n",
    "    \"R_H\": 10e-3  # Typical resistance value: 10 mOh\n",
    "}\n",
    "\n",
    "# Before we can use the heater, we have to initialize it\n",
    "test_env.init_heater(params=heater_params)"
   ]
  },
  {
   "cell_type": "markdown",
   "id": "870bf175",
   "metadata": {},
   "source": [
    "## 4) Define TES\n",
    "The TES model is also strongly dependent on the parameters!"
   ]
  },
  {
   "cell_type": "code",
   "execution_count": 6,
   "id": "52d3bce2",
   "metadata": {},
   "outputs": [
    {
     "name": "stdout",
     "output_type": "stream",
     "text": [
      "TES initialized.\n"
     ]
    }
   ],
   "source": [
    "tes_params = {\n",
    "    \"R_T_max\": 150e-3,  # Typical resistance value at normal conducting state: 10 mOhm\n",
    "    \"T_min\": 10e-3,  # Beginn of transition: 0.05 K\n",
    "    \"T_c\": 35e-3,     # Typical critical temperature: 0.1 K\n",
    "    \"T_max\": 60e-3   # End of transition: 0.15 K\n",
    "}\n",
    "\n",
    "test_env.init_tes(model=\"sigmoid\", params=tes_params)\n"
   ]
  },
  {
   "cell_type": "markdown",
   "id": "0f0f9497",
   "metadata": {},
   "source": [
    "## 5) SQUID\n",
    "Tbd\n",
    "But: The TES current I_T is proportional to the SQUID output voltage U_s. So this is a problem from another day"
   ]
  },
  {
   "cell_type": "markdown",
   "id": "cf438431",
   "metadata": {},
   "source": [
    "# Start having fun!\n",
    "I implemented a few methods, which can be extended.\n",
    "First one I want to show, are the sweeps. Here we have mainly the following two:\n",
    "- Heater sweep: Sweeping the Heater throughout the whole transition, no TP\n",
    "- Bias sweep: ..."
   ]
  },
  {
   "cell_type": "code",
   "execution_count": 7,
   "id": "62be482a",
   "metadata": {},
   "outputs": [
    {
     "data": {
      "image/png": "[encoded data removed]",
      "text/plain": [
       "<Figure size 800x500 with 1 Axes>"
      ]
     },
     "metadata": {},
     "output_type": "display_data"
    }
   ],
   "source": [
    "# Lets see a transition curve\n",
    "test_env.plot_tes_transition()"
   ]
  },
  {
   "cell_type": "code",
   "execution_count": 8,
   "id": "6b9205fd",
   "metadata": {},
   "outputs": [],
   "source": [
    "# Get the response for a heater value\n",
    "I_T = test_env.get_heater_response(V_H=50e-9)[0]  # Only get I_T, not T_e and T_a"
   ]
  },
  {
   "cell_type": "code",
   "execution_count": 21,
   "id": "a5083650",
   "metadata": {},
   "outputs": [
    {
     "data": {
      "text/plain": [
       "[<matplotlib.lines.Line2D at 0x168985e80>]"
      ]
     },
     "execution_count": 21,
     "metadata": {},
     "output_type": "execute_result"
    },
    {
     "data": {
      "image/png": "[encoded data removed]",
      "text/plain": [
       "<Figure size 640x480 with 1 Axes>"
      ]
     },
     "metadata": {},
     "output_type": "display_data"
    }
   ],
   "source": [
    "# This can be already used to do a Heater sweep\n",
    "V_H = np.linspace(10e-9, 1500e-9, 100)  # Heater voltage values\n",
    "I_B, T_e, T_a = test_env.get_heater_response(V_H)\n",
    "\n",
    "plt.plot(V_H, I_B)"
   ]
  },
  {
   "cell_type": "code",
   "execution_count": null,
   "id": "6c0306d3",
   "metadata": {},
   "outputs": [],
   "source": []
  }
 ],
 "metadata": {
  "kernelspec": {
   "display_name": "CAITdev",
   "language": "python",
   "name": "python3"
  },
  "language_info": {
   "codemirror_mode": {
    "name": "ipython",
    "version": 3
   },
   "file_extension": ".py",
   "mimetype": "text/x-python",
   "name": "python",
   "nbconvert_exporter": "python",
   "pygments_lexer": "ipython3",
   "version": "3.12.11"
  }
 },
 "nbformat": 4,
 "nbformat_minor": 5
}
