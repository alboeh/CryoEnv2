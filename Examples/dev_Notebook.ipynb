{
 "cells": [
  {
   "cell_type": "markdown",
   "id": "fc519b52",
   "metadata": {},
   "source": [
    "Just for developing the CryoEnv2"
   ]
  },
  {
   "cell_type": "code",
   "execution_count": 9,
   "id": "a8acedcd",
   "metadata": {},
   "outputs": [],
   "source": [
    "import numpy as np \n",
    "import matplotlib.pyplot as plt\n",
    "import cait as ai\n",
    "import cait.versatile as vai\n",
    "\n",
    "# Get multiprocessing\n",
    "n_processes = ai._available_workers\n",
    "# Standard values for plotting\n",
    "backend = \"plotly\" # Choose \"mpl\" for keeping plots when closing, \"plotly\" for interactive plotting\n",
    "\n",
    "# Go up one level because notebook is in folder\n",
    "import sys\n",
    "import os\n",
    "sys.path.append(os.path.abspath(\"..\"))  # Go to project root folder\n",
    "\n",
    "# New cryoEnv implementation\n",
    "from CryoEnv2 import CryoEnv as cryo"
   ]
  },
  {
   "cell_type": "code",
   "execution_count": 10,
   "id": "e14d9e2a",
   "metadata": {},
   "outputs": [
    {
     "name": "stdout",
     "output_type": "stream",
     "text": [
      "DataHandler Instance created.\n"
     ]
    },
    {
     "data": {
      "text/plain": [
       "DataHandler(record_length=16384, sample_frequency=50000.0, dt_us=20, channels=['Heater', 'Output'])"
      ]
     },
     "execution_count": 10,
     "metadata": {},
     "output_type": "execute_result"
    }
   ],
   "source": [
    "# Create datahandler to load with generated testpulses\n",
    "\n",
    "# File directory\n",
    "fpath = \"../Files/\"\n",
    "fname = \"test_file\"\n",
    "\n",
    "# Set time\n",
    "fs = 50e3   # We use 50 kHz from VDAQ\n",
    "\n",
    "# Create datahandler\n",
    "dh = ai.DataHandler(channels=[\"Heater\", \"Output\"], sample_frequency=fs)\n",
    "dh.set_filepath(path_h5=fpath, fname=fname, appendix=False)\n",
    "dh.init_empty()\n",
    "dh"
   ]
  },
  {
   "cell_type": "code",
   "execution_count": 11,
   "id": "16921867",
   "metadata": {},
   "outputs": [
    {
     "name": "stdout",
     "output_type": "stream",
     "text": [
      "\u001b[1m\u001b[95mHeater constant\u001b[0m\u001b[0m\n",
      "  \u001b[1m\u001b[36mevent                  \u001b[0m\u001b[0m\u001b[93m    \u001b[0m (1, 10, 16384)  float32\n",
      "  \u001b[1m\u001b[36mtime_mus               \u001b[0m\u001b[0m\u001b[93m    \u001b[0m (10,)           float32\n",
      "  \u001b[1m\u001b[36mtime_s                 \u001b[0m\u001b[0m\u001b[93m    \u001b[0m (10,)           float32\n"
     ]
    }
   ],
   "source": [
    "# Should be empty before adding content\n",
    "dh.content()"
   ]
  },
  {
   "cell_type": "markdown",
   "id": "45a9dc8a",
   "metadata": {},
   "source": [
    "# Creating DAC group\n",
    "The DAC is the voltage value set to the Heater.\n",
    "This is usually a constant DC, which is superimposed with Testpulses.\n",
    "The constant part sets the OP of the detector.\n",
    "\n",
    "All the simulation of the Heater, testpulses etc should be handled by the `CryoEnv2`, while the data itself will be stored in the datahandler from cait."
   ]
  },
  {
   "cell_type": "code",
   "execution_count": 12,
   "id": "c4fedfed",
   "metadata": {},
   "outputs": [],
   "source": [
    "# This function makes writing to dh easier\n",
    "def event_to_dh(dh, channel, events, time=None):\n",
    "    if time is not None:\n",
    "        raise KeyError(\"Time information is not yet implemented\")\n",
    "    events = np.expand_dims(events, axis=0)\n",
    "    dh.set(channel, event=events)\n",
    "    \n",
    "    # Generate random time scale, since this is not really implemented yet\n",
    "    time = np.linspace(0, 10, events.shape[1])  \n",
    "    dh.set(channel, time_s = time)\n",
    "    dh.set(channel, time_mus = time*1e3)"
   ]
  },
  {
   "cell_type": "code",
   "execution_count": 13,
   "id": "c55feab2",
   "metadata": {},
   "outputs": [
    {
     "name": "stdout",
     "output_type": "stream",
     "text": [
      "Heater initialized.\n"
     ]
    },
    {
     "name": "stderr",
     "output_type": "stream",
     "text": [
      "/opt/anaconda3/envs/CAITdev/lib/python3.12/site-packages/cait/data_handler.py:1021: UserWarning:\n",
      "\n",
      "Dataset \u001b[1m\u001b[36mevent\u001b[0m\u001b[0m already exists in group \u001b[1m\u001b[95mHeater constant\u001b[0m\u001b[0m. To change it, set 'change_existing' or 'overwrite_existing' to True\n",
      "\n",
      "\n",
      "/opt/anaconda3/envs/CAITdev/lib/python3.12/site-packages/cait/data_handler.py:1021: UserWarning:\n",
      "\n",
      "Dataset \u001b[1m\u001b[36mtime_s\u001b[0m\u001b[0m already exists in group \u001b[1m\u001b[95mHeater constant\u001b[0m\u001b[0m. To change it, set 'change_existing' or 'overwrite_existing' to True\n",
      "\n",
      "\n",
      "/opt/anaconda3/envs/CAITdev/lib/python3.12/site-packages/cait/data_handler.py:1021: UserWarning:\n",
      "\n",
      "Dataset \u001b[1m\u001b[36mtime_mus\u001b[0m\u001b[0m already exists in group \u001b[1m\u001b[95mHeater constant\u001b[0m\u001b[0m. To change it, set 'change_existing' or 'overwrite_existing' to True\n",
      "\n",
      "\n"
     ]
    }
   ],
   "source": [
    "# Init an cryo environment\n",
    "test_cryo_env = cryo(dh.record_length)\n",
    "\n",
    "# Before we can use the heater, we have to initialize it\n",
    "test_cryo_env.init_heater(resistance=10e-3)  # Typical resistance value: 10 mOh\n",
    "\n",
    "# Now we create 10 constant traces with each a voltage of 0.5\n",
    "Constant_traces = test_cryo_env.get_constant_heater_trace(voltage=0.5, number=10)  # Set constant heater value to 0.5 V\n",
    "\n",
    "# Write to datahandler\n",
    "event_to_dh(dh=dh, channel=\"Heater constant\", events=Constant_traces)\n"
   ]
  },
  {
   "cell_type": "code",
   "execution_count": 14,
   "id": "a57f3e5c",
   "metadata": {},
   "outputs": [
    {
     "name": "stdout",
     "output_type": "stream",
     "text": [
      "\u001b[1m\u001b[95mHeater constant\u001b[0m\u001b[0m\n",
      "  \u001b[1m\u001b[36mevent                  \u001b[0m\u001b[0m\u001b[93m    \u001b[0m (1, 10, 16384)  float32\n",
      "  \u001b[1m\u001b[36mtime_mus               \u001b[0m\u001b[0m\u001b[93m    \u001b[0m (10,)           float32\n",
      "  \u001b[1m\u001b[36mtime_s                 \u001b[0m\u001b[0m\u001b[93m    \u001b[0m (10,)           float32\n"
     ]
    }
   ],
   "source": [
    "dh.content()"
   ]
  },
  {
   "cell_type": "code",
   "execution_count": 15,
   "id": "1569ee26",
   "metadata": {},
   "outputs": [
    {
     "data": {
      "application/vnd.jupyter.widget-view+json": {
       "model_id": "c657cca66d794fd9a43e674c2aaf0c86",
       "version_major": 2,
       "version_minor": 0
      },
      "text/plain": [
       "VBox(children=(HBox(children=(Button(description='Exit', style=ButtonStyle(), tooltip='Close plot widget.'), B…"
      ]
     },
     "metadata": {},
     "output_type": "display_data"
    },
    {
     "data": {
      "text/plain": [
       "<cait.versatile.plot.highlevel.preview.Preview at 0x106547140>"
      ]
     },
     "execution_count": 15,
     "metadata": {},
     "output_type": "execute_result"
    }
   ],
   "source": [
    "# Now we can see through this with the cait.versatile event_iterator!\n",
    "vai.Preview(dh.get_event_iterator(\"Heater constant\"), backend=backend)"
   ]
  },
  {
   "cell_type": "markdown",
   "id": "c9e5a902",
   "metadata": {},
   "source": [
    "Nice :) We can use constant Heater values already"
   ]
  },
  {
   "cell_type": "markdown",
   "id": "9f4b9ecf",
   "metadata": {},
   "source": []
  }
 ],
 "metadata": {
  "kernelspec": {
   "display_name": "CAITdev",
   "language": "python",
   "name": "python3"
  },
  "language_info": {
   "codemirror_mode": {
    "name": "ipython",
    "version": 3
   },
   "file_extension": ".py",
   "mimetype": "text/x-python",
   "name": "python",
   "nbconvert_exporter": "python",
   "pygments_lexer": "ipython3",
   "version": "3.12.11"
  }
 },
 "nbformat": 4,
 "nbformat_minor": 5
}
